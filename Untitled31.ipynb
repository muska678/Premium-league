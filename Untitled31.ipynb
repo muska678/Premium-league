{
 "cells": [
  {
   "cell_type": "markdown",
   "metadata": {},
   "source": [
    "# THe Indian Premium League\n",
    " "
   ]
  },
  {
   "cell_type": "code",
   "execution_count": 1,
   "metadata": {},
   "outputs": [
    {
     "ename": "SyntaxError",
     "evalue": "invalid syntax (<ipython-input-1-1cf855524b6e>, line 1)",
     "output_type": "error",
     "traceback": [
      "\u001b[1;36m  File \u001b[1;32m\"<ipython-input-1-1cf855524b6e>\"\u001b[1;36m, line \u001b[1;32m1\u001b[0m\n\u001b[1;33m    This Python 3 environment comes with many helpful analytics libraries installed\u001b[0m\n\u001b[1;37m         ^\u001b[0m\n\u001b[1;31mSyntaxError\u001b[0m\u001b[1;31m:\u001b[0m invalid syntax\n"
     ]
    }
   ],
   "source": [
    " This Python 3 environment comes with many helpful analytics libraries installed\n",
    "# It is defined by the kaggle/python docker image: https://github.com/kaggle/docker-python\n",
    "# For example, here's several helpful packages to load in \n",
    "\n",
    "import numpy as np # linear algebra\n",
    "import pandas as pd # data processing, CSV file I/O (e.g. pd.read_csv)\n",
    "\n",
    "# Input data files are available in the \"../input/\" directory.\n",
    "# For example, running this (by clicking run or pressing Shift+Enter) will list the files in the input directory\n",
    "\n",
    "import os\n",
    "print(os.listdir(\"../input\"))\n",
    "\n",
    "# Any results you write to the current directory are saved as output.\n",
    "\n",
    "df = pd.read_csv('../input/matches.csv')\n",
    "df.loc[df['winner'] == 'Rising Pune Supergiants', 'winner'] = 'Rising Pune Supergiant'\n",
    "#But we have to replace in other series as well like 'team1', 'team2',etc.\n",
    "df[['team1','team2','toss_winner','winner']] = df[['team1','team2','toss_winner','winner']].apply(lambda val : val.str.replace('Rising Pune Supergiants','Rising Pune Supergiant') )\n",
    "\n",
    "winners_df = df.groupby('winner', sort = False).count().id.sort_values(ascending = False)\n",
    "winners_df\n",
    "winners_df.plot(kind = 'bar', title = 'Number of matches won in IPL', label = 'Number of wins' )\n",
    "winning_toss_winning_match = df[(df['toss_winner'] == df['winner'])]\n",
    "winning_toss_losing_match = df[(df['toss_winner'] != df['winner'])]\n",
    "new_df = pd.DataFrame({\"Team won the toss\":[ winning_toss_winning_match.shape[0],winning_toss_losing_match.shape[0]  ]}, index = ['Won match', 'Lost match']  )\n",
    "#Let's plot the above obervations\n",
    "new_df.plot( kind = 'bar' , legend = False , title = \"Number of time a team won the toss and the match result of that match\")\n",
    "\n",
    "team_batting_first_won = df.loc[(df['toss_winner'] == df['winner']) & (df['toss_decision'] == 'bat'), ['id', 'winner']]\n",
    "team_fielding_first_won = df.loc[(df['toss_winner'] == df['winner']) & (df['toss_decision'] == 'field'),  ['id', 'winner']]\n",
    "team_fielding_first_won_df= team_fielding_first_won['winner'].value_counts()\n",
    "team_batting_first_won_df = team_batting_first_won['winner'].value_counts()\n",
    "\n",
    "team_fielding_first_won_df.plot(kind = 'bar', title = 'Team winning toss, fielding first won the match. ')\n",
    "<matplotlib.axes._subplots.AxesSubplot at 0x7f5508752f28>\n",
    "\n",
    "def set_batting_first(team1, team2, toss_winner, toss_decision):\n",
    "    if toss_decision == 'bat':\n",
    "        return toss_winner\n",
    "    else:\n",
    "        if team1 == toss_winner:\n",
    "            return team2\n",
    "        else:\n",
    "            return team1  "
   ]
  },
  {
   "cell_type": "code",
   "execution_count": null,
   "metadata": {},
   "outputs": [],
   "source": []
  }
 ],
 "metadata": {
  "kernelspec": {
   "display_name": "Python 3",
   "language": "python",
   "name": "python3"
  },
  "language_info": {
   "codemirror_mode": {
    "name": "ipython",
    "version": 3
   },
   "file_extension": ".py",
   "mimetype": "text/x-python",
   "name": "python",
   "nbconvert_exporter": "python",
   "pygments_lexer": "ipython3",
   "version": "3.8.2"
  }
 },
 "nbformat": 4,
 "nbformat_minor": 4
}
